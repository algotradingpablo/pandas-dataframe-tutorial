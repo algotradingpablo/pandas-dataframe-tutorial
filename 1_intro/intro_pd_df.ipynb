{
 "cells": [
  {
   "cell_type": "markdown",
   "id": "18ca9071-8cf5-4ae6-a7f5-8c62485c803e",
   "metadata": {},
   "source": [
    "# 1.- Introducción a Pandas Dataframe"
   ]
  },
  {
   "cell_type": "markdown",
   "id": "9626165c-8de9-4c74-9582-855148a6dc02",
   "metadata": {},
   "source": [
    "* Tabla organizada por filas y columnas.\n",
    "* Capacidad de realizar operaciones entre las columnas y de crear nuevas columnas a partir de las ya existentes.\n",
    "* Integración con tipos de archivo como CSV\n",
    "* Gran cantidad de métodos: filtros de información, estadísticos, gráficos, etc."
   ]
  },
  {
   "cell_type": "code",
   "execution_count": 1,
   "id": "23e0bb84-d036-4081-be6c-7d0c0632b6a2",
   "metadata": {},
   "outputs": [],
   "source": [
    "import pandas as pd"
   ]
  },
  {
   "cell_type": "markdown",
   "id": "04807a14-3be0-4781-8704-1fcdb730d792",
   "metadata": {},
   "source": [
    "## Crear un dataframe vacío"
   ]
  },
  {
   "cell_type": "code",
   "execution_count": 2,
   "id": "87f04810-9ee2-4494-817f-dc14d8c328dc",
   "metadata": {},
   "outputs": [],
   "source": [
    "df = pd.DataFrame()"
   ]
  },
  {
   "cell_type": "code",
   "execution_count": 3,
   "id": "77f074ef-790c-4247-bfb0-181c7e521a4d",
   "metadata": {},
   "outputs": [
    {
     "data": {
      "text/html": [
       "<div>\n",
       "<style scoped>\n",
       "    .dataframe tbody tr th:only-of-type {\n",
       "        vertical-align: middle;\n",
       "    }\n",
       "\n",
       "    .dataframe tbody tr th {\n",
       "        vertical-align: top;\n",
       "    }\n",
       "\n",
       "    .dataframe thead th {\n",
       "        text-align: right;\n",
       "    }\n",
       "</style>\n",
       "<table border=\"1\" class=\"dataframe\">\n",
       "  <thead>\n",
       "    <tr style=\"text-align: right;\">\n",
       "      <th></th>\n",
       "    </tr>\n",
       "  </thead>\n",
       "  <tbody>\n",
       "  </tbody>\n",
       "</table>\n",
       "</div>"
      ],
      "text/plain": [
       "Empty DataFrame\n",
       "Columns: []\n",
       "Index: []"
      ]
     },
     "execution_count": 3,
     "metadata": {},
     "output_type": "execute_result"
    }
   ],
   "source": [
    "df"
   ]
  },
  {
   "cell_type": "code",
   "execution_count": 4,
   "id": "1c57412b-94df-4e9f-a736-dc15d2b2ece6",
   "metadata": {},
   "outputs": [
    {
     "name": "stdout",
     "output_type": "stream",
     "text": [
      "Empty DataFrame\n",
      "Columns: []\n",
      "Index: []\n"
     ]
    }
   ],
   "source": [
    "print(df)"
   ]
  },
  {
   "cell_type": "markdown",
   "id": "bf9f5f21-6be7-43ae-b5ea-c953f60677e0",
   "metadata": {},
   "source": [
    "## Crear un dataframe con información"
   ]
  },
  {
   "cell_type": "code",
   "execution_count": 5,
   "id": "1289b1f9-03d7-4426-8c52-3ac26cb79890",
   "metadata": {},
   "outputs": [],
   "source": [
    "df = pd.DataFrame(columns=[\"Animales\", \"Alas\", \"Brazos\", \"Patas\"], data=[[\"Gorila\", 0, 2, 2], [\"Tigre\", 0, 0, 4], [\"Loro\", 2, 0, 2], [\"Araña\", 0, 0, 8]])"
   ]
  },
  {
   "cell_type": "code",
   "execution_count": 6,
   "id": "55ddb076-3c49-4efa-b6ec-61f1b6e4c207",
   "metadata": {},
   "outputs": [
    {
     "data": {
      "text/html": [
       "<div>\n",
       "<style scoped>\n",
       "    .dataframe tbody tr th:only-of-type {\n",
       "        vertical-align: middle;\n",
       "    }\n",
       "\n",
       "    .dataframe tbody tr th {\n",
       "        vertical-align: top;\n",
       "    }\n",
       "\n",
       "    .dataframe thead th {\n",
       "        text-align: right;\n",
       "    }\n",
       "</style>\n",
       "<table border=\"1\" class=\"dataframe\">\n",
       "  <thead>\n",
       "    <tr style=\"text-align: right;\">\n",
       "      <th></th>\n",
       "      <th>Animales</th>\n",
       "      <th>Alas</th>\n",
       "      <th>Brazos</th>\n",
       "      <th>Patas</th>\n",
       "    </tr>\n",
       "  </thead>\n",
       "  <tbody>\n",
       "    <tr>\n",
       "      <th>0</th>\n",
       "      <td>Gorila</td>\n",
       "      <td>0</td>\n",
       "      <td>2</td>\n",
       "      <td>2</td>\n",
       "    </tr>\n",
       "    <tr>\n",
       "      <th>1</th>\n",
       "      <td>Tigre</td>\n",
       "      <td>0</td>\n",
       "      <td>0</td>\n",
       "      <td>4</td>\n",
       "    </tr>\n",
       "    <tr>\n",
       "      <th>2</th>\n",
       "      <td>Loro</td>\n",
       "      <td>2</td>\n",
       "      <td>0</td>\n",
       "      <td>2</td>\n",
       "    </tr>\n",
       "    <tr>\n",
       "      <th>3</th>\n",
       "      <td>Araña</td>\n",
       "      <td>0</td>\n",
       "      <td>0</td>\n",
       "      <td>8</td>\n",
       "    </tr>\n",
       "  </tbody>\n",
       "</table>\n",
       "</div>"
      ],
      "text/plain": [
       "  Animales  Alas  Brazos  Patas\n",
       "0   Gorila     0       2      2\n",
       "1    Tigre     0       0      4\n",
       "2     Loro     2       0      2\n",
       "3    Araña     0       0      8"
      ]
     },
     "execution_count": 6,
     "metadata": {},
     "output_type": "execute_result"
    }
   ],
   "source": [
    "df"
   ]
  },
  {
   "cell_type": "code",
   "execution_count": 7,
   "id": "b1142f77-38d4-4d25-992a-367edc1b96bc",
   "metadata": {},
   "outputs": [],
   "source": [
    "df = pd.DataFrame({\"Animales\": [\"Gorila\", \"Tigre\", \"Loro\", \"Araña\"], \"Alas\": [0, 0, 2, 0], \"Brazos\": [2, 0, 0, 0], \"Patas\": [2, 4, 2, 8]})"
   ]
  },
  {
   "cell_type": "code",
   "execution_count": 8,
   "id": "1ab3c921-3a12-4e02-bf90-2e7b886d1460",
   "metadata": {},
   "outputs": [
    {
     "data": {
      "text/html": [
       "<div>\n",
       "<style scoped>\n",
       "    .dataframe tbody tr th:only-of-type {\n",
       "        vertical-align: middle;\n",
       "    }\n",
       "\n",
       "    .dataframe tbody tr th {\n",
       "        vertical-align: top;\n",
       "    }\n",
       "\n",
       "    .dataframe thead th {\n",
       "        text-align: right;\n",
       "    }\n",
       "</style>\n",
       "<table border=\"1\" class=\"dataframe\">\n",
       "  <thead>\n",
       "    <tr style=\"text-align: right;\">\n",
       "      <th></th>\n",
       "      <th>Animales</th>\n",
       "      <th>Alas</th>\n",
       "      <th>Brazos</th>\n",
       "      <th>Patas</th>\n",
       "    </tr>\n",
       "  </thead>\n",
       "  <tbody>\n",
       "    <tr>\n",
       "      <th>0</th>\n",
       "      <td>Gorila</td>\n",
       "      <td>0</td>\n",
       "      <td>2</td>\n",
       "      <td>2</td>\n",
       "    </tr>\n",
       "    <tr>\n",
       "      <th>1</th>\n",
       "      <td>Tigre</td>\n",
       "      <td>0</td>\n",
       "      <td>0</td>\n",
       "      <td>4</td>\n",
       "    </tr>\n",
       "    <tr>\n",
       "      <th>2</th>\n",
       "      <td>Loro</td>\n",
       "      <td>2</td>\n",
       "      <td>0</td>\n",
       "      <td>2</td>\n",
       "    </tr>\n",
       "    <tr>\n",
       "      <th>3</th>\n",
       "      <td>Araña</td>\n",
       "      <td>0</td>\n",
       "      <td>0</td>\n",
       "      <td>8</td>\n",
       "    </tr>\n",
       "  </tbody>\n",
       "</table>\n",
       "</div>"
      ],
      "text/plain": [
       "  Animales  Alas  Brazos  Patas\n",
       "0   Gorila     0       2      2\n",
       "1    Tigre     0       0      4\n",
       "2     Loro     2       0      2\n",
       "3    Araña     0       0      8"
      ]
     },
     "execution_count": 8,
     "metadata": {},
     "output_type": "execute_result"
    }
   ],
   "source": [
    "df"
   ]
  },
  {
   "cell_type": "markdown",
   "id": "dadb15a4-6464-45b4-b7d8-21122f2a2a59",
   "metadata": {},
   "source": [
    "## Crear nuevas columnas a partir de columnas existentes"
   ]
  },
  {
   "cell_type": "code",
   "execution_count": 9,
   "id": "203f18a8-6ffa-4057-919f-e6a3565bade0",
   "metadata": {},
   "outputs": [],
   "source": [
    "df[\"Extremidades\"] = df[\"Alas\"] + df[\"Brazos\"] + df[\"Patas\"]"
   ]
  },
  {
   "cell_type": "code",
   "execution_count": 10,
   "id": "5cb7c5f6-1c3e-4860-b7c6-716406bf84ac",
   "metadata": {},
   "outputs": [
    {
     "data": {
      "text/html": [
       "<div>\n",
       "<style scoped>\n",
       "    .dataframe tbody tr th:only-of-type {\n",
       "        vertical-align: middle;\n",
       "    }\n",
       "\n",
       "    .dataframe tbody tr th {\n",
       "        vertical-align: top;\n",
       "    }\n",
       "\n",
       "    .dataframe thead th {\n",
       "        text-align: right;\n",
       "    }\n",
       "</style>\n",
       "<table border=\"1\" class=\"dataframe\">\n",
       "  <thead>\n",
       "    <tr style=\"text-align: right;\">\n",
       "      <th></th>\n",
       "      <th>Animales</th>\n",
       "      <th>Alas</th>\n",
       "      <th>Brazos</th>\n",
       "      <th>Patas</th>\n",
       "      <th>Extremidades</th>\n",
       "    </tr>\n",
       "  </thead>\n",
       "  <tbody>\n",
       "    <tr>\n",
       "      <th>0</th>\n",
       "      <td>Gorila</td>\n",
       "      <td>0</td>\n",
       "      <td>2</td>\n",
       "      <td>2</td>\n",
       "      <td>4</td>\n",
       "    </tr>\n",
       "    <tr>\n",
       "      <th>1</th>\n",
       "      <td>Tigre</td>\n",
       "      <td>0</td>\n",
       "      <td>0</td>\n",
       "      <td>4</td>\n",
       "      <td>4</td>\n",
       "    </tr>\n",
       "    <tr>\n",
       "      <th>2</th>\n",
       "      <td>Loro</td>\n",
       "      <td>2</td>\n",
       "      <td>0</td>\n",
       "      <td>2</td>\n",
       "      <td>4</td>\n",
       "    </tr>\n",
       "    <tr>\n",
       "      <th>3</th>\n",
       "      <td>Araña</td>\n",
       "      <td>0</td>\n",
       "      <td>0</td>\n",
       "      <td>8</td>\n",
       "      <td>8</td>\n",
       "    </tr>\n",
       "  </tbody>\n",
       "</table>\n",
       "</div>"
      ],
      "text/plain": [
       "  Animales  Alas  Brazos  Patas  Extremidades\n",
       "0   Gorila     0       2      2             4\n",
       "1    Tigre     0       0      4             4\n",
       "2     Loro     2       0      2             4\n",
       "3    Araña     0       0      8             8"
      ]
     },
     "execution_count": 10,
     "metadata": {},
     "output_type": "execute_result"
    }
   ],
   "source": [
    "df"
   ]
  },
  {
   "cell_type": "markdown",
   "id": "b4989f4e-55f4-4a2b-891e-2f96ca73beeb",
   "metadata": {},
   "source": [
    "## Guardar un dataframe en un archivo CSV"
   ]
  },
  {
   "cell_type": "code",
   "execution_count": 11,
   "id": "5929cdfd-8a55-40a8-83ba-137d57c77fc4",
   "metadata": {},
   "outputs": [],
   "source": [
    "df.to_csv(\"animales.csv\", index=False)"
   ]
  },
  {
   "cell_type": "markdown",
   "id": "03be59a6-e65a-4276-8449-3f68411bfa32",
   "metadata": {},
   "source": [
    "## Leer un archivo CSV en un dataframe"
   ]
  },
  {
   "cell_type": "code",
   "execution_count": 12,
   "id": "730297ce-73d2-4eda-b6a9-ad663ef7a447",
   "metadata": {},
   "outputs": [],
   "source": [
    "animales = pd.read_csv(\"animales.csv\")"
   ]
  },
  {
   "cell_type": "code",
   "execution_count": 13,
   "id": "ab59763b-0cab-4575-8d75-6fc3bc016d25",
   "metadata": {},
   "outputs": [
    {
     "data": {
      "text/html": [
       "<div>\n",
       "<style scoped>\n",
       "    .dataframe tbody tr th:only-of-type {\n",
       "        vertical-align: middle;\n",
       "    }\n",
       "\n",
       "    .dataframe tbody tr th {\n",
       "        vertical-align: top;\n",
       "    }\n",
       "\n",
       "    .dataframe thead th {\n",
       "        text-align: right;\n",
       "    }\n",
       "</style>\n",
       "<table border=\"1\" class=\"dataframe\">\n",
       "  <thead>\n",
       "    <tr style=\"text-align: right;\">\n",
       "      <th></th>\n",
       "      <th>Animales</th>\n",
       "      <th>Alas</th>\n",
       "      <th>Brazos</th>\n",
       "      <th>Patas</th>\n",
       "      <th>Extremidades</th>\n",
       "    </tr>\n",
       "  </thead>\n",
       "  <tbody>\n",
       "    <tr>\n",
       "      <th>0</th>\n",
       "      <td>Gorila</td>\n",
       "      <td>0</td>\n",
       "      <td>2</td>\n",
       "      <td>2</td>\n",
       "      <td>4</td>\n",
       "    </tr>\n",
       "    <tr>\n",
       "      <th>1</th>\n",
       "      <td>Tigre</td>\n",
       "      <td>0</td>\n",
       "      <td>0</td>\n",
       "      <td>4</td>\n",
       "      <td>4</td>\n",
       "    </tr>\n",
       "    <tr>\n",
       "      <th>2</th>\n",
       "      <td>Loro</td>\n",
       "      <td>2</td>\n",
       "      <td>0</td>\n",
       "      <td>2</td>\n",
       "      <td>4</td>\n",
       "    </tr>\n",
       "    <tr>\n",
       "      <th>3</th>\n",
       "      <td>Araña</td>\n",
       "      <td>0</td>\n",
       "      <td>0</td>\n",
       "      <td>8</td>\n",
       "      <td>8</td>\n",
       "    </tr>\n",
       "  </tbody>\n",
       "</table>\n",
       "</div>"
      ],
      "text/plain": [
       "  Animales  Alas  Brazos  Patas  Extremidades\n",
       "0   Gorila     0       2      2             4\n",
       "1    Tigre     0       0      4             4\n",
       "2     Loro     2       0      2             4\n",
       "3    Araña     0       0      8             8"
      ]
     },
     "execution_count": 13,
     "metadata": {},
     "output_type": "execute_result"
    }
   ],
   "source": [
    "animales"
   ]
  },
  {
   "cell_type": "code",
   "execution_count": 14,
   "id": "643b96aa-c2f9-42d8-a4be-d2e422c472b7",
   "metadata": {},
   "outputs": [],
   "source": [
    "ciudades_sudamerica = pd.read_csv(\"ciudades_sudamerica.csv\")"
   ]
  },
  {
   "cell_type": "code",
   "execution_count": 15,
   "id": "012f14fe-657a-4418-8f26-b95be90226e7",
   "metadata": {},
   "outputs": [
    {
     "data": {
      "text/html": [
       "<div>\n",
       "<style scoped>\n",
       "    .dataframe tbody tr th:only-of-type {\n",
       "        vertical-align: middle;\n",
       "    }\n",
       "\n",
       "    .dataframe tbody tr th {\n",
       "        vertical-align: top;\n",
       "    }\n",
       "\n",
       "    .dataframe thead th {\n",
       "        text-align: right;\n",
       "    }\n",
       "</style>\n",
       "<table border=\"1\" class=\"dataframe\">\n",
       "  <thead>\n",
       "    <tr style=\"text-align: right;\">\n",
       "      <th></th>\n",
       "      <th>Ciudad</th>\n",
       "      <th>Pais</th>\n",
       "      <th>Poblacion</th>\n",
       "    </tr>\n",
       "  </thead>\n",
       "  <tbody>\n",
       "    <tr>\n",
       "      <th>0</th>\n",
       "      <td>Acarigua</td>\n",
       "      <td>Venezuela</td>\n",
       "      <td>143704</td>\n",
       "    </tr>\n",
       "    <tr>\n",
       "      <th>1</th>\n",
       "      <td>Alagoinhas</td>\n",
       "      <td>Brazil</td>\n",
       "      <td>122688</td>\n",
       "    </tr>\n",
       "    <tr>\n",
       "      <th>2</th>\n",
       "      <td>Alegrete</td>\n",
       "      <td>Brazil</td>\n",
       "      <td>87236</td>\n",
       "    </tr>\n",
       "    <tr>\n",
       "      <th>3</th>\n",
       "      <td>Almirante Tamandare</td>\n",
       "      <td>Brazil</td>\n",
       "      <td>89499</td>\n",
       "    </tr>\n",
       "    <tr>\n",
       "      <th>4</th>\n",
       "      <td>Alto Barinas</td>\n",
       "      <td>Venezuela</td>\n",
       "      <td>284289</td>\n",
       "    </tr>\n",
       "    <tr>\n",
       "      <th>...</th>\n",
       "      <td>...</td>\n",
       "      <td>...</td>\n",
       "      <td>...</td>\n",
       "    </tr>\n",
       "    <tr>\n",
       "      <th>495</th>\n",
       "      <td>Volta Redonda</td>\n",
       "      <td>Brazil</td>\n",
       "      <td>249580</td>\n",
       "    </tr>\n",
       "    <tr>\n",
       "      <th>496</th>\n",
       "      <td>Votorantim</td>\n",
       "      <td>Brazil</td>\n",
       "      <td>99390</td>\n",
       "    </tr>\n",
       "    <tr>\n",
       "      <th>497</th>\n",
       "      <td>Yaritagua</td>\n",
       "      <td>Venezuela</td>\n",
       "      <td>89662</td>\n",
       "    </tr>\n",
       "    <tr>\n",
       "      <th>498</th>\n",
       "      <td>Zarate</td>\n",
       "      <td>Argentina</td>\n",
       "      <td>88781</td>\n",
       "    </tr>\n",
       "    <tr>\n",
       "      <th>499</th>\n",
       "      <td>Zipaquira</td>\n",
       "      <td>Colombia</td>\n",
       "      <td>91235</td>\n",
       "    </tr>\n",
       "  </tbody>\n",
       "</table>\n",
       "<p>500 rows × 3 columns</p>\n",
       "</div>"
      ],
      "text/plain": [
       "                  Ciudad       Pais  Poblacion\n",
       "0               Acarigua  Venezuela     143704\n",
       "1             Alagoinhas     Brazil     122688\n",
       "2               Alegrete     Brazil      87236\n",
       "3    Almirante Tamandare     Brazil      89499\n",
       "4           Alto Barinas  Venezuela     284289\n",
       "..                   ...        ...        ...\n",
       "495        Volta Redonda     Brazil     249580\n",
       "496           Votorantim     Brazil      99390\n",
       "497            Yaritagua  Venezuela      89662\n",
       "498               Zarate  Argentina      88781\n",
       "499            Zipaquira   Colombia      91235\n",
       "\n",
       "[500 rows x 3 columns]"
      ]
     },
     "execution_count": 15,
     "metadata": {},
     "output_type": "execute_result"
    }
   ],
   "source": [
    "ciudades_sudamerica"
   ]
  }
 ],
 "metadata": {
  "kernelspec": {
   "display_name": "Python 3 (ipykernel)",
   "language": "python",
   "name": "python3"
  },
  "language_info": {
   "codemirror_mode": {
    "name": "ipython",
    "version": 3
   },
   "file_extension": ".py",
   "mimetype": "text/x-python",
   "name": "python",
   "nbconvert_exporter": "python",
   "pygments_lexer": "ipython3",
   "version": "3.12.3"
  }
 },
 "nbformat": 4,
 "nbformat_minor": 5
}
